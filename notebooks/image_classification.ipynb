{
  "nbformat": 4,
  "nbformat_minor": 0,
  "metadata": {
    "colab": {
      "provenance": [],
      "gpuType": "T4",
      "include_colab_link": true
    },
    "kernelspec": {
      "name": "python3",
      "display_name": "Python 3"
    },
    "language_info": {
      "name": "python"
    },
    "accelerator": "GPU"
  },
  "cells": [
    {
      "cell_type": "markdown",
      "metadata": {
        "id": "view-in-github",
        "colab_type": "text"
      },
      "source": [
        "<a href=\"https://colab.research.google.com/github/hsswkwk/turbo-chainsaw/blob/feature-add-image-classification/notebooks/image_classification.ipynb\" target=\"_parent\"><img src=\"https://colab.research.google.com/assets/colab-badge.svg\" alt=\"Open In Colab\"/></a>"
      ]
    },
    {
      "cell_type": "markdown",
      "source": [
        "# 画像分類（Image Classification）\n",
        "入力した画像情報を「形」や「模様」、「色」など特徴量に分解し、入力情報から対象物を判定できるように対応付けを行う\n",
        "\n",
        "## CNN（Convolutional Neural Network）\n",
        "畳み込みニューラルネットワーク（CNNまたはConvNet）は、畳み込みを使用しているニューラルネットワークの総称\n",
        "\n",
        "## ResNet\n",
        "残差ニューラルネットワーク（ResNet）は、ウェイト層が層入力を参照して残差関数を学習する深層学習モデル\n",
        "\n",
        "## VGG16\n",
        "ImageNetと呼ばれる大規模画像データセットで学習された16層(畳み込み13層、フル結合3層)からなる畳み込みニューラルネットワーク(CNN)\n",
        "\n",
        "## Efficient Net\n",
        "複合スケーリング手法を用いて、ネットワークの幅、深さ、解像度を同時に最適化し、より少ないパラメータ数で高い精度を持つCNN\n",
        "\n",
        "## 各手法の違い"
      ],
      "metadata": {
        "id": "wm_anjAZ6g32"
      }
    },
    {
      "cell_type": "code",
      "source": [
        "import os\n",
        "import tensorflow as tf\n",
        "from tensorflow.keras import datasets, layers, models, applications\n",
        "\n",
        "# CIFAR-10データセットの読み込み\n",
        "(x_train, y_train), (x_test, y_test) = datasets.cifar10.load_data()\n",
        "# データの前処理（画素値を0-1の範囲に正規化）\n",
        "x_train = x_train.astype('float32') / 255.0\n",
        "x_test = x_test.astype('float32') / 255.0\n",
        "y_train = tf.keras.utils.to_categorical(y_train, num_classes=10)  ##\n",
        "y_test = tf.keras.utils.to_categorical(y_test, num_classes=10)  ##\n",
        "\n",
        "class ImageClassificationModelBase:\n",
        "  def __init__(self, x_train, y_train, x_test, y_test, filepath):\n",
        "    self.filename = filepath.split('/')[-1]\n",
        "    self.name = self.filename.split('.')[0]\n",
        "    if os.path.exists(filepath):\n",
        "      self.model = tf.keras.models.load_model(filepath)\n",
        "    else:\n",
        "      self._build_model()\n",
        "      # optimizer: 最適化アルゴリズム, loss: 損失関数, metrics: 評価指標\n",
        "      self.model.compile(\n",
        "        optimizer='adam',\n",
        "        loss='categorical_crossentropy',\n",
        "        metrics=['accuracy'])\n",
        "      history = self.model.fit(\n",
        "        x_train,\n",
        "        y_train,\n",
        "        batch_size=256,\n",
        "        epochs=10,\n",
        "        validation_data=(x_test, y_test))\n",
        "      self.model.save(self.filename)\n",
        "\n",
        "  def evaluate(self, x_test,  y_test):\n",
        "    test_loss, test_acc = self.model.evaluate(x_test,  y_test, verbose=2)\n",
        "    print(f'\\n{self.name}: Test accuracy: {test_acc}')\n",
        "\n",
        "  def predict(self, x, y):\n",
        "    prediction = self.model.predict(x)\n",
        "    print(f'\\n{self.name}: Prediction: {prediction}, Actual: {y}')\n",
        "\n",
        "  def _build_model(self):\n",
        "    pass\n",
        "\n",
        "\n",
        "class CnnModel(ImageClassificationModelBase):\n",
        "  def _build_model(self):\n",
        "    self.model = models.Sequential()\n",
        "    self.model.add(layers.Conv2D(32, (3, 3), activation='relu', input_shape=(32, 32, 3)))\n",
        "    self.model.add(layers.MaxPooling2D((2, 2)))\n",
        "    self.model.add(layers.Conv2D(64, (3, 3), activation='relu'))\n",
        "    self.model.add(layers.MaxPooling2D((2, 2)))\n",
        "    self.model.add(layers.Conv2D(64, (3, 3), activation='relu'))\n",
        "    self.model.add(layers.Flatten())\n",
        "    self.model.add(layers.Dense(64, activation='relu'))\n",
        "    self.model.add(layers.Dense(10, activation='softmax'))\n",
        "\n",
        "\n",
        "class ResNetModel(ImageClassificationModelBase):\n",
        "  def _build_model(self):\n",
        "    # ResNet50モデルの読み込み（ImageNetで事前学習済み）\n",
        "    # ImageNet:\n",
        "    # 物体認識ソフトウェアの研究において、ソフトウェアの最適化や性能の評価等に\n",
        "    # 用いるために設計された、大規模な画像データセット\n",
        "    resnet_model = applications.ResNet50(weights='imagenet', include_top=False, input_shape=(32, 32, 3))\n",
        "\n",
        "    # ResNet50の出力層をCIFAR-10用に変更\n",
        "    # 事前学習済みのResNet50モデルに、CIFAR-10のクラス数に対応する全結合層を追加\n",
        "    self.model = models.Sequential()\n",
        "    self.model.add(resnet_model)\n",
        "    self.model.add(layers.Flatten())\n",
        "    self.model.add(layers.Dense(10, activation='softmax'))\n",
        "\n",
        "\n",
        "class Vgg16Model(ImageClassificationModelBase):\n",
        "  def _build_model(self):\n",
        "    vgg16_model = applications.VGG16(weights='imagenet', include_top=False, input_shape=(32, 32, 3))\n",
        "    self.model = models.Sequential()\n",
        "    self.model.add(vgg16_model)\n",
        "    self.model.add(layers.Flatten())\n",
        "    self.model.add(layers.Dense(10, activation='softmax'))\n",
        "\n",
        "\n",
        "class EfficientNetModel(ImageClassificationModelBase):\n",
        "  def _build_model(self):\n",
        "    efficientnet_model = applications.EfficientNetB0(weights='imagenet', include_top=False, input_shape=(32, 32, 3))\n",
        "    self.model = models.Sequential()\n",
        "    self.model.add(efficientnet_model)\n",
        "    self.model.add(layers.GlobalAveragePooling2D())  # GlobalAveragePooling2Dを追加\n",
        "    self.model.add(layers.Dense(10, activation='softmax'))\n",
        "\n",
        "\n",
        "# CNN\n",
        "cnn_model = CnnModel(x_train, y_train, x_test, y_test, '/content/cnn.keras')\n",
        "cnn_model.evaluate(x_test,  y_test)\n",
        "\n",
        "# ResNet\n",
        "resnet_model = ResNetModel(x_train, y_train, x_test, y_test, '/content/resnet.keras')\n",
        "resnet_model.evaluate(x_test,  y_test)\n",
        "\n",
        "# VGG16\n",
        "vgg16_model = Vgg16Model(x_train, y_train, x_test, y_test, '/content/vgg16.keras')\n",
        "vgg16_model.evaluate(x_test,  y_test)\n",
        "\n",
        "# Efficient Net\n",
        "effnet_model = EfficientNetModel(x_train, y_train, x_test, y_test, '/content/efficientnet.keras')\n",
        "effnet_model.evaluate(x_test,  y_test)\n"
      ],
      "metadata": {
        "colab": {
          "base_uri": "https://localhost:8080/"
        },
        "id": "pGnPN0oe6ynR",
        "outputId": "aeb1668f-573b-4ea7-9e81-aff77bc5b685"
      },
      "execution_count": 10,
      "outputs": [
        {
          "output_type": "stream",
          "name": "stdout",
          "text": [
            "313/313 - 2s - 5ms/step - accuracy: 0.6810 - loss: 0.9307\n",
            "\n",
            "cnn: Test accuracy: 0.6809999942779541\n",
            "313/313 - 8s - 25ms/step - accuracy: 0.7636 - loss: 0.9443\n",
            "\n",
            "resnet: Test accuracy: 0.7635999917984009\n",
            "313/313 - 4s - 12ms/step - accuracy: 0.8178 - loss: 0.6869\n",
            "\n",
            "vgg16: Test accuracy: 0.817799985408783\n",
            "313/313 - 12s - 38ms/step - accuracy: 0.0979 - loss: 3387.0740\n",
            "\n",
            "efficientnet: Test accuracy: 0.09790000319480896\n"
          ]
        }
      ]
    }
  ]
}