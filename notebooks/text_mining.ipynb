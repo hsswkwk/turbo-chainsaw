{
  "nbformat": 4,
  "nbformat_minor": 0,
  "metadata": {
    "colab": {
      "provenance": [],
      "authorship_tag": "ABX9TyNN1gU5MHr/go5DKnMOZzKj",
      "include_colab_link": true
    },
    "kernelspec": {
      "name": "python3",
      "display_name": "Python 3"
    },
    "language_info": {
      "name": "python"
    }
  },
  "cells": [
    {
      "cell_type": "markdown",
      "metadata": {
        "id": "view-in-github",
        "colab_type": "text"
      },
      "source": [
        "<a href=\"https://colab.research.google.com/github/hsswkwk/turbo-chainsaw/blob/feature-add-text-mining/notebooks/text_mining.ipynb\" target=\"_parent\"><img src=\"https://colab.research.google.com/assets/colab-badge.svg\" alt=\"Open In Colab\"/></a>"
      ]
    },
    {
      "cell_type": "markdown",
      "source": [
        "# テキストマイニング（text mining）\n",
        "大量のテキストデータから有用な情報や知識を発見するための技術。\n",
        "\n",
        "## 手法\n",
        "\n",
        "### 形態素解析\n",
        "テキストを単語や文節などの意味を持つ最小単位に分割する手法。\n",
        "Janome や MeCab\n",
        "\n",
        "### 構文解析\n",
        "文の構造を解析する手法。\n",
        "CaboChaやGinza\n",
        "\n",
        "### 意味解析\n",
        "文の意味を解析する手法。\n",
        "Word2VecやBERT\n",
        "\n",
        "### 感情分析\n",
        "テキストに含まれる感情を分析する手法。\n",
        "\n",
        "### トピック分析\n",
        "テキストに含まれるトピックを抽出する手法。\n",
        "LDA\n",
        "\n",
        "### 要約\n",
        "テキストの内容を要約する手法。\n",
        "\n"
      ],
      "metadata": {
        "id": "zDdsCj1f1MG4"
      }
    },
    {
      "cell_type": "code",
      "execution_count": null,
      "metadata": {
        "id": "cI5Ph4XNzV4x"
      },
      "outputs": [],
      "source": []
    }
  ]
}