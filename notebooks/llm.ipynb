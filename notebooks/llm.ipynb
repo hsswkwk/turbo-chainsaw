{
  "nbformat": 4,
  "nbformat_minor": 0,
  "metadata": {
    "colab": {
      "provenance": [],
      "authorship_tag": "ABX9TyNAo+o2y2zMzVHlxMdnMRg1",
      "include_colab_link": true
    },
    "kernelspec": {
      "name": "python3",
      "display_name": "Python 3"
    },
    "language_info": {
      "name": "python"
    }
  },
  "cells": [
    {
      "cell_type": "markdown",
      "metadata": {
        "id": "view-in-github",
        "colab_type": "text"
      },
      "source": [
        "<a href=\"https://colab.research.google.com/github/hsswkwk/turbo-chainsaw/blob/feature-add-llm/notebooks/llm.ipynb\" target=\"_parent\"><img src=\"https://colab.research.google.com/assets/colab-badge.svg\" alt=\"Open In Colab\"/></a>"
      ]
    },
    {
      "cell_type": "markdown",
      "source": [
        "# LLM(Large Language Model)\n",
        "大量のテキストデータでトレーニングされた人工知能モデル。\n",
        "\n",
        "## LangChain\n",
        "LLMを活用したアプリケーション開発を簡素化するためのフレームワーク。\n",
        "\n",
        "## ベクトルデータベース\n",
        "ベクトル埋め込みと呼ばれるデータ表現（テキスト、画像、音声などのデータを数値のベクトルに変換したもの）を効率的に保存、管理、検索するために設計されたデータベースの一種。\n",
        "\n",
        "* Chroma\n",
        "* Qdrant\n",
        "* Pinecone\n",
        "<br>など\n",
        "\n",
        "## LlamaIndex\n",
        "LLMアプリケーションを構築するためのオープンソースフレームワーク。LangChainよりもRAGパイプラインを構築するためのツールが充実している。\n"
      ],
      "metadata": {
        "id": "0uYcrXdw-5ZQ"
      }
    },
    {
      "cell_type": "code",
      "source": [],
      "metadata": {
        "id": "tnTQV5kvCXT7"
      },
      "execution_count": null,
      "outputs": []
    }
  ]
}