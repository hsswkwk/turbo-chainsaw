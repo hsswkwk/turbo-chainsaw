{
  "nbformat": 4,
  "nbformat_minor": 0,
  "metadata": {
    "colab": {
      "provenance": [],
      "authorship_tag": "ABX9TyN70tuJ2EsNpD1vf4lk+WDv",
      "include_colab_link": true
    },
    "kernelspec": {
      "name": "python3",
      "display_name": "Python 3"
    },
    "language_info": {
      "name": "python"
    }
  },
  "cells": [
    {
      "cell_type": "markdown",
      "metadata": {
        "id": "view-in-github",
        "colab_type": "text"
      },
      "source": [
        "<a href=\"https://colab.research.google.com/github/hsswkwk/turbo-chainsaw/blob/feature-add-anomaly-detection/notebooks/anomaly_detection.ipynb\" target=\"_parent\"><img src=\"https://colab.research.google.com/assets/colab-badge.svg\" alt=\"Open In Colab\"/></a>"
      ]
    },
    {
      "cell_type": "markdown",
      "source": [
        "# 異常検知（Aanomaly detection）\n",
        "標準的な状態や想定から逸脱しているデータや事象を特定する技術\n"
      ],
      "metadata": {
        "id": "PaP90VRh7wqm"
      }
    },
    {
      "cell_type": "markdown",
      "source": [
        "## 正規分布に従うデータの異常検知\n",
        "### 例\n",
        "製品の温度をセンサーで監視している場合の異常検知\n",
        "\n",
        "### 手法\n",
        "\n",
        "#### 3$\\sigma$法\n",
        "データが正規分布に従うと仮定し、平均値から標準偏差の3倍以上離れた値を異常値とみなす方法\n",
        "\n",
        "#### マハラノビス・タグチ法\n",
        "データの各次元間の相関を考慮した距離尺度を用いて、平均値から離れた値を異常値とみなす方法\n",
        "\n",
        "#### ホテリングの$T^2$法\n",
        "マハラノビス距離を拡張した手法で、データの平均値からのずれを検定統計量として用いて異常値を検出する方法\n",
        "\n",
        "#### 密度比推定\n"
      ],
      "metadata": {
        "id": "1dE3Gampih0k"
      }
    },
    {
      "cell_type": "code",
      "source": [
        "import numpy as np\n",
        "from scipy.spatial.distance import mahalanobis\n",
        "from scipy.stats import f\n",
        "from sklearn.neighbors import KernelDensity\n",
        "\n",
        "\n",
        "# 正常データ生成\n",
        "normal_data = np.random.normal(loc=25, scale=2, size=100)\n",
        "\n",
        "# 異常値の追加\n",
        "anomaly_indices = [10, 20, 30]  # 異常値のインデックス\n",
        "anomaly_values = [35, 15, 32]  # 異常値\n",
        "normal_data[anomaly_indices] = anomaly_values\n",
        "\n",
        "# 生成したデータ\n",
        "temperature_data = normal_data\n",
        "\n",
        "\n",
        "### 3σ法\n",
        "def three_sigma_method(data, threshold=3):\n",
        "  mean = np.mean(data)\n",
        "  std = np.std(data)\n",
        "  lower_bound = mean - threshold * std\n",
        "  upper_bound = mean + threshold * std\n",
        "  anomaly_indices = np.where((data < lower_bound) | (data > upper_bound))[0]\n",
        "  return data[anomaly_indices]\n",
        "\n",
        "### マハラノビス距離\n",
        "def mahalanobis_distance_method(data, threshold_percentile=99):\n",
        "  # dataを2次元配列に変換\n",
        "  data = np.array([data, data])\n",
        "\n",
        "  mean = np.mean(data, axis=0)\n",
        "  cov = np.cov(data.T)\n",
        "\n",
        "  # 共分散行列が特異行列の場合、微小な値を加算して正則化する\n",
        "  if np.linalg.cond(cov) > 1e15:  # 条件数が大きい場合、特異行列とみなす\n",
        "      cov += np.eye(cov.shape[0]) * 1e-6  # 単位行列に微小な値を掛けて加算\n",
        "\n",
        "  inv_cov = np.linalg.inv(cov)\n",
        "  distances = [mahalanobis(x, mean, inv_cov) for x in data]\n",
        "\n",
        "  # 異常値とみなす閾値を設定\n",
        "  threshold = np.percentile(distances, threshold_percentile)\n",
        "\n",
        "  # 閾値を超えるデータを異常値として検出\n",
        "  anomalies = [data[i] for i, distance in enumerate(distances) if distance > threshold]\n",
        "  return anomalies\n",
        "\n",
        "### ホテリングのT^2法\n",
        "# def hotelling_t2_method(data):\n",
        "#   mean = np.mean(data, axis=0)\n",
        "#   inv_cov = np.linalg.inv(np.cov(data.T))\n",
        "#   n = data.shape[0]\n",
        "#   p = data.shape[1]\n",
        "#   t2_values = [(x - mean).reshape(1, -1) @ inv_cov @ (x - mean).reshape(-1, 1) for x in data]\n",
        "#   threshold = p * (n - 1) / (n - p) * f.ppf(0.95, p, n - p)  # 異常値とみなす閾値を設定\n",
        "#   anomalies = [data[i] for i, t2 in enumerate(t2_values) if t2 > threshold]\n",
        "#   return anomalies\n",
        "\n",
        "# # 正常データ\n",
        "# normal_data = np.random.randn(100, 2)\n",
        "\n",
        "# # 異常検知の実行\n",
        "# anomalies = hotelling_t2_method(normal_data)\n",
        "\n",
        "### 密度比推定\n",
        "# 正常データと異常データ\n",
        "# normal_data = np.random.randn(100, 2)\n",
        "# anomaly_data = np.random.rand(10, 2) * 5\n",
        "\n",
        "# # KLIEPによる密度比推定 (簡易的な実装)\n",
        "# def kliep(normal_data, anomaly_data, bandwidth=0.1):\n",
        "#   kde_normal = KernelDensity(bandwidth=bandwidth).fit(normal_data)\n",
        "#   kde_anomaly = KernelDensity(bandwidth=bandwidth).fit(anomaly_data)\n",
        "#   density_ratio = np.exp(kde_normal.score_samples(anomaly_data) - kde_anomaly.score_samples(anomaly_data))\n",
        "#   return density_ratio\n",
        "\n",
        "# # 密度比推定\n",
        "# density_ratio = kliep(normal_data, anomaly_data)\n",
        "\n",
        "# # 異常度の算出\n",
        "# anomaly_score = -np.log(density_ratio)\n",
        "\n",
        "# # 閾値の設定 (例: 異常度の95%点)\n",
        "# threshold = np.percentile(anomaly_score, 95)\n",
        "\n",
        "# # 異常検知\n",
        "# predicted_anomalies = anomaly_data[anomaly_score > threshold]\n",
        "\n",
        "### マハラノビス・タグチ法\n",
        "# # 正常データ\n",
        "# normal_data = np.random.randn(100, 2)\n",
        "\n",
        "# # マハラノビス距離の計算\n",
        "# mean = np.mean(normal_data, axis=0)\n",
        "# inv_cov = np.linalg.inv(np.cov(normal_data.T))\n",
        "# distances = [mahalanobis(x, mean, inv_cov) for x in normal_data]\n",
        "\n",
        "# # 閾値の設定 (例: 99%点)\n",
        "# threshold = np.percentile(distances, 99)\n",
        "\n",
        "# # 異常検知\n",
        "# def detect_anomaly(x):\n",
        "#   distance = mahalanobis(x, mean, inv_cov)\n",
        "#   return distance > threshold\n",
        "\n",
        "# # テストデータ\n",
        "# test_data = np.array([[1, 2], [3, 4]])\n",
        "\n",
        "# # 異常検知の実行\n",
        "# for x in test_data:\n",
        "#   if detect_anomaly(x):\n",
        "#     print(f\"Data point {x} is anomalous.\")\n",
        "#   else:\n",
        "#     print(f\"Data point {x} is normal.\")\n",
        "\n",
        "\n",
        "# 異常検知の実行\n",
        "anomalies_three_sigma_method = three_sigma_method(temperature_data)\n",
        "anomalies_mahalanobis_distance_method = mahalanobis_distance_method(temperature_data)\n",
        "\n",
        "# 結果の出力\n",
        "print(\"================ 3σ法 ================\")\n",
        "print(\"異常値:\", anomalies_three_sigma_method)\n",
        "print(\"\\n\")\n",
        "\n",
        "print(\"===== マハラノビス距離による異常検知 =====\")\n",
        "print(\"異常値:\", anomalies_mahalanobis_distance_method)\n",
        "print(\"\\n\")\n"
      ],
      "metadata": {
        "id": "VydvSi0Ejy_Z",
        "outputId": "d84945c3-8db0-4f8f-a1a6-7107cf9f12c0",
        "colab": {
          "base_uri": "https://localhost:8080/"
        }
      },
      "execution_count": 21,
      "outputs": [
        {
          "output_type": "stream",
          "name": "stdout",
          "text": [
            "================ 3σ法 ================\n",
            "異常値: [35. 15.]\n",
            "\n",
            "\n",
            "===== マハラノビス距離による異常検知 =====\n",
            "異常値: []\n",
            "\n",
            "\n"
          ]
        }
      ]
    },
    {
      "cell_type": "markdown",
      "source": [
        "## 非正規データの異常検知\n",
        "### 例\n",
        "ウェブサイトへのアクセス数の異常検知\n"
      ],
      "metadata": {
        "id": "FMOqmjNLiot5"
      }
    },
    {
      "cell_type": "markdown",
      "source": [
        "## 不要次元のある次元データの異常検知\n",
        "### 例\n",
        "顧客の購買データを用いた異常検知\n"
      ],
      "metadata": {
        "id": "V4fWrW7RivcU"
      }
    },
    {
      "cell_type": "markdown",
      "source": [
        "## 入出力関係のあるデータの異常検知\n",
        "### 例\n",
        "製造工程における品質管理\n"
      ],
      "metadata": {
        "id": "NWg4xZztixiP"
      }
    },
    {
      "cell_type": "markdown",
      "source": [
        "## 時系列データの異常検知\n",
        "### 例\n",
        "サーバーのCPU使用率の異常検知\n"
      ],
      "metadata": {
        "id": "n1WuKOxxizq4"
      }
    },
    {
      "cell_type": "markdown",
      "source": [
        "## 変数間に関係があるデータの異常検知\n",
        "### 例\n",
        "クレジットカードの不正利用検知\n"
      ],
      "metadata": {
        "id": "42XygjKgi1od"
      }
    }
  ]
}