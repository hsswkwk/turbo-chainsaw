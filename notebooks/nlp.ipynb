{
  "nbformat": 4,
  "nbformat_minor": 0,
  "metadata": {
    "colab": {
      "provenance": [],
      "authorship_tag": "ABX9TyOP3l2RFqGkX3engs+Qs1V2",
      "include_colab_link": true
    },
    "kernelspec": {
      "name": "python3",
      "display_name": "Python 3"
    },
    "language_info": {
      "name": "python"
    }
  },
  "cells": [
    {
      "cell_type": "markdown",
      "metadata": {
        "id": "view-in-github",
        "colab_type": "text"
      },
      "source": [
        "<a href=\"https://colab.research.google.com/github/hsswkwk/turbo-chainsaw/blob/feature-add-text-mining/notebooks/text_mining.ipynb\" target=\"_parent\"><img src=\"https://colab.research.google.com/assets/colab-badge.svg\" alt=\"Open In Colab\"/></a>"
      ]
    },
    {
      "cell_type": "markdown",
      "source": [
        "# 自然言語処理（Natural language processing, NLP）\n",
        "人間の言語をコンピュータに理解させるための技術。応用すると文章の翻訳、音声認識、テキストの要約などを行うことができる。\n",
        "\n",
        "## メモ欄\n",
        "\n",
        "単語分割 → 構文解析 → 意味解析 → 文脈解析\n",
        "\n",
        "\n",
        "https://qiita.com/MahoTakara/items/b3d719ed1a3665730826\n",
        "https://qiita.com/Yuu94/items/ca1ad7eb1dd5c9686c5a\n",
        "\n",
        "\n",
        "Google Cloud Natural Language API, Amazon Comprehend, spaCy+GINZA, NLTK（日本語には不向きらしい）\n",
        "\n",
        "## 単語分割\n",
        "### 形態素解析\n",
        "テキストを単語や文節などの意味を持つ最小単位に分割する。\n",
        "Janome や MeCab\n",
        "\n",
        "### N-gram解析\n",
        "\n",
        "\n",
        "\n",
        "## 構文解析\n",
        "文の構造を解析する。\n",
        "CaboChaやGinza, Stanza\n",
        "\n",
        "\n",
        "## 意味解析\n",
        "文の意味を解析する。\n",
        "Word2VecやBERT, fastText\n",
        "\n",
        "\n",
        "## 文脈解析\n",
        "文や単語が置かれている文脈、つまり前後の文章や周囲の単語、あるいは会話や文書全体といったより広範な情報を考慮して、その意味や意図を理解する。\n",
        "spaCy, Hugging Face Transformers, AllenNLP, Flair\n",
        "\n",
        "\n",
        "\n",
        "\n",
        "## 感情分析\n",
        "感情、意見、態度などの主観的な情報を抽出するプロセス。\n",
        "TextBlob, VaderSentiment, Flair\n",
        "\n",
        "## トピック分析\n",
        "大量のテキストデータから、そのデータに含まれる主要なトピック（話題）を抽出するプロセス。\n",
        "Gensim, sklearn\n",
        "\n",
        "\n",
        "\n",
        "## API、ライブラリ\n",
        "### Google Cloud Natural Language API\n",
        "\n",
        "### Amazon Comprehend\n",
        "\n",
        "### spaCy\n"
      ],
      "metadata": {
        "id": "zDdsCj1f1MG4"
      }
    },
    {
      "cell_type": "code",
      "execution_count": null,
      "metadata": {
        "id": "cI5Ph4XNzV4x"
      },
      "outputs": [],
      "source": []
    }
  ]
}